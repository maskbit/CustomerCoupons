{
 "cells": [
  {
   "cell_type": "markdown",
   "metadata": {},
   "source": [
    "### Will a Customer Accept the Coupon?\n",
    "\n",
    "**Context**\n",
    "\n",
    "Imagine driving through town and a coupon is delivered to your cell phone for a restaraunt near where you are driving. Would you accept that coupon and take a short detour to the restaraunt? Would you accept the coupon but use it on a sunbsequent trip? Would you ignore the coupon entirely? What if the coupon was for a bar instead of a restaraunt? What about a coffee house? Would you accept a bar coupon with a minor passenger in the car? What about if it was just you and your partner in the car? Would weather impact the rate of acceptance? What about the time of day?\n",
    "\n",
    "Obviously, proximity to the business is a factor on whether the coupon is delivered to the driver or not, but what are the factors that determine whether a driver accepts the coupon once it is delivered to them? How would you determine whether a driver is likely to accept a coupon?\n",
    "\n",
    "**Overview**\n",
    "\n",
    "The goal of this project is to use what you know about visualizations and probability distributions to distinguish between customers who accepted a driving coupon versus those that did not.\n",
    "\n",
    "**Data**\n",
    "\n",
    "This data comes to us from the UCI Machine Learning repository and was collected via a survey on Amazon Mechanical Turk. The survey describes different driving scenarios including the destination, current time, weather, passenger, etc., and then ask the person whether he will accept the coupon if he is the driver. Answers that the user will drive there ‘right away’ or ‘later before the coupon expires’ are labeled as ‘Y = 1’ and answers ‘no, I do not want the coupon’ are labeled as ‘Y = 0’.  There are five different types of coupons -- less expensive restaurants (under \\\\$20), coffee houses, carry out & take away, bar, and more expensive restaurants (\\\\$20 - \\\\$50). "
   ]
  },
  {
   "cell_type": "markdown",
   "metadata": {},
   "source": [
    "**Deliverables**\n",
    "\n",
    "Your final product should be a brief report that highlights the differences between customers who did and did not accept the coupons.  To explore the data you will utilize your knowledge of plotting, statistical summaries, and visualization using Python. You will publish your findings in a public facing github repository as your first portfolio piece. \n",
    "\n",
    "\n",
    "\n"
   ]
  },
  {
   "cell_type": "markdown",
   "metadata": {},
   "source": [
    "### Data Description\n",
    "Keep in mind that these values mentioned below are average values.\n",
    "\n",
    "The attributes of this data set include:\n",
    "1. User attributes\n",
    "    -  Gender: male, female\n",
    "    -  Age: below 21, 21 to 25, 26 to 30, etc.\n",
    "    -  Marital Status: single, married partner, unmarried partner, or widowed\n",
    "    -  Number of children: 0, 1, or more than 1\n",
    "    -  Education: high school, bachelors degree, associates degree, or graduate degree\n",
    "    -  Occupation: architecture & engineering, business & financial, etc.\n",
    "    -  Annual income: less than \\\\$12500, \\\\$12500 - \\\\$24999, \\\\$25000 - \\\\$37499, etc.\n",
    "    -  Number of times that he/she goes to a bar: 0, less than 1, 1 to 3, 4 to 8 or greater than 8\n",
    "    -  Number of times that he/she buys takeaway food: 0, less than 1, 1 to 3, 4 to 8 or greater\n",
    "    than 8\n",
    "    -  Number of times that he/she goes to a coffee house: 0, less than 1, 1 to 3, 4 to 8 or\n",
    "    greater than 8\n",
    "    -  Number of times that he/she eats at a restaurant with average expense less than \\\\$20 per\n",
    "    person: 0, less than 1, 1 to 3, 4 to 8 or greater than 8\n",
    "    -  Number of times that he/she goes to a bar: 0, less than 1, 1 to 3, 4 to 8 or greater than 8\n",
    "    \n",
    "\n",
    "2. Contextual attributes\n",
    "    - Driving destination: home, work, or no urgent destination\n",
    "    - Location of user, coupon and destination: we provide a map to show the geographical\n",
    "    location of the user, destination, and the venue, and we mark the distance between each\n",
    "    two places with time of driving. The user can see whether the venue is in the same\n",
    "    direction as the destination.\n",
    "    - Weather: sunny, rainy, or snowy\n",
    "    - Temperature: 30F, 55F, or 80F\n",
    "    - Time: 10AM, 2PM, or 6PM\n",
    "    - Passenger: alone, partner, kid(s), or friend(s)\n",
    "\n",
    "\n",
    "3. Coupon attributes\n",
    "    - time before it expires: 2 hours or one day"
   ]
  },
  {
   "cell_type": "code",
   "execution_count": 1,
   "metadata": {},
   "outputs": [],
   "source": [
    "import matplotlib.pyplot as plt\n",
    "import seaborn as sns\n",
    "import pandas as pd\n",
    "import numpy as np"
   ]
  },
  {
   "cell_type": "markdown",
   "metadata": {},
   "source": [
    "### Problems\n",
    "\n",
    "Use the prompts below to get started with your data analysis.  \n",
    "\n",
    "1. Read in the `coupons.csv` file.\n",
    "\n",
    "\n"
   ]
  },
  {
   "cell_type": "code",
   "execution_count": 2,
   "metadata": {},
   "outputs": [],
   "source": [
    "data = pd.read_csv('../data/coupons.csv')"
   ]
  },
  {
   "cell_type": "code",
   "execution_count": 3,
   "metadata": {},
   "outputs": [
    {
     "name": "stdout",
     "output_type": "stream",
     "text": [
      "<class 'pandas.core.frame.DataFrame'>\n",
      "RangeIndex: 12684 entries, 0 to 12683\n",
      "Data columns (total 26 columns):\n",
      " #   Column                Non-Null Count  Dtype \n",
      "---  ------                --------------  ----- \n",
      " 0   destination           12684 non-null  object\n",
      " 1   passanger             12684 non-null  object\n",
      " 2   weather               12684 non-null  object\n",
      " 3   temperature           12684 non-null  int64 \n",
      " 4   time                  12684 non-null  object\n",
      " 5   coupon                12684 non-null  object\n",
      " 6   expiration            12684 non-null  object\n",
      " 7   gender                12684 non-null  object\n",
      " 8   age                   12684 non-null  object\n",
      " 9   maritalStatus         12684 non-null  object\n",
      " 10  has_children          12684 non-null  int64 \n",
      " 11  education             12684 non-null  object\n",
      " 12  occupation            12684 non-null  object\n",
      " 13  income                12684 non-null  object\n",
      " 14  car                   108 non-null    object\n",
      " 15  Bar                   12577 non-null  object\n",
      " 16  CoffeeHouse           12467 non-null  object\n",
      " 17  CarryAway             12533 non-null  object\n",
      " 18  RestaurantLessThan20  12554 non-null  object\n",
      " 19  Restaurant20To50      12495 non-null  object\n",
      " 20  toCoupon_GEQ5min      12684 non-null  int64 \n",
      " 21  toCoupon_GEQ15min     12684 non-null  int64 \n",
      " 22  toCoupon_GEQ25min     12684 non-null  int64 \n",
      " 23  direction_same        12684 non-null  int64 \n",
      " 24  direction_opp         12684 non-null  int64 \n",
      " 25  Y                     12684 non-null  int64 \n",
      "dtypes: int64(8), object(18)\n",
      "memory usage: 2.5+ MB\n",
      "12684\n",
      "26\n"
     ]
    },
    {
     "data": {
      "text/html": [
       "<div>\n",
       "<style scoped>\n",
       "    .dataframe tbody tr th:only-of-type {\n",
       "        vertical-align: middle;\n",
       "    }\n",
       "\n",
       "    .dataframe tbody tr th {\n",
       "        vertical-align: top;\n",
       "    }\n",
       "\n",
       "    .dataframe thead th {\n",
       "        text-align: right;\n",
       "    }\n",
       "</style>\n",
       "<table border=\"1\" class=\"dataframe\">\n",
       "  <thead>\n",
       "    <tr style=\"text-align: right;\">\n",
       "      <th></th>\n",
       "      <th>destination</th>\n",
       "      <th>passanger</th>\n",
       "      <th>weather</th>\n",
       "      <th>temperature</th>\n",
       "      <th>time</th>\n",
       "      <th>coupon</th>\n",
       "      <th>expiration</th>\n",
       "      <th>gender</th>\n",
       "      <th>age</th>\n",
       "      <th>maritalStatus</th>\n",
       "      <th>...</th>\n",
       "      <th>CoffeeHouse</th>\n",
       "      <th>CarryAway</th>\n",
       "      <th>RestaurantLessThan20</th>\n",
       "      <th>Restaurant20To50</th>\n",
       "      <th>toCoupon_GEQ5min</th>\n",
       "      <th>toCoupon_GEQ15min</th>\n",
       "      <th>toCoupon_GEQ25min</th>\n",
       "      <th>direction_same</th>\n",
       "      <th>direction_opp</th>\n",
       "      <th>Y</th>\n",
       "    </tr>\n",
       "  </thead>\n",
       "  <tbody>\n",
       "    <tr>\n",
       "      <th>9072</th>\n",
       "      <td>No Urgent Place</td>\n",
       "      <td>Kid(s)</td>\n",
       "      <td>Sunny</td>\n",
       "      <td>80</td>\n",
       "      <td>10AM</td>\n",
       "      <td>Coffee House</td>\n",
       "      <td>1d</td>\n",
       "      <td>Female</td>\n",
       "      <td>26</td>\n",
       "      <td>Married partner</td>\n",
       "      <td>...</td>\n",
       "      <td>1~3</td>\n",
       "      <td>4~8</td>\n",
       "      <td>4~8</td>\n",
       "      <td>less1</td>\n",
       "      <td>1</td>\n",
       "      <td>0</td>\n",
       "      <td>0</td>\n",
       "      <td>0</td>\n",
       "      <td>1</td>\n",
       "      <td>1</td>\n",
       "    </tr>\n",
       "    <tr>\n",
       "      <th>534</th>\n",
       "      <td>No Urgent Place</td>\n",
       "      <td>Kid(s)</td>\n",
       "      <td>Sunny</td>\n",
       "      <td>55</td>\n",
       "      <td>2PM</td>\n",
       "      <td>Restaurant(&lt;20)</td>\n",
       "      <td>1d</td>\n",
       "      <td>Male</td>\n",
       "      <td>50plus</td>\n",
       "      <td>Married partner</td>\n",
       "      <td>...</td>\n",
       "      <td>1~3</td>\n",
       "      <td>4~8</td>\n",
       "      <td>4~8</td>\n",
       "      <td>less1</td>\n",
       "      <td>1</td>\n",
       "      <td>1</td>\n",
       "      <td>0</td>\n",
       "      <td>0</td>\n",
       "      <td>1</td>\n",
       "      <td>1</td>\n",
       "    </tr>\n",
       "    <tr>\n",
       "      <th>4590</th>\n",
       "      <td>No Urgent Place</td>\n",
       "      <td>Friend(s)</td>\n",
       "      <td>Sunny</td>\n",
       "      <td>80</td>\n",
       "      <td>10AM</td>\n",
       "      <td>Coffee House</td>\n",
       "      <td>2h</td>\n",
       "      <td>Male</td>\n",
       "      <td>36</td>\n",
       "      <td>Married partner</td>\n",
       "      <td>...</td>\n",
       "      <td>never</td>\n",
       "      <td>1~3</td>\n",
       "      <td>1~3</td>\n",
       "      <td>less1</td>\n",
       "      <td>1</td>\n",
       "      <td>1</td>\n",
       "      <td>0</td>\n",
       "      <td>0</td>\n",
       "      <td>1</td>\n",
       "      <td>0</td>\n",
       "    </tr>\n",
       "    <tr>\n",
       "      <th>1121</th>\n",
       "      <td>Work</td>\n",
       "      <td>Alone</td>\n",
       "      <td>Sunny</td>\n",
       "      <td>55</td>\n",
       "      <td>7AM</td>\n",
       "      <td>Coffee House</td>\n",
       "      <td>2h</td>\n",
       "      <td>Female</td>\n",
       "      <td>41</td>\n",
       "      <td>Married partner</td>\n",
       "      <td>...</td>\n",
       "      <td>less1</td>\n",
       "      <td>4~8</td>\n",
       "      <td>1~3</td>\n",
       "      <td>less1</td>\n",
       "      <td>1</td>\n",
       "      <td>1</td>\n",
       "      <td>0</td>\n",
       "      <td>0</td>\n",
       "      <td>1</td>\n",
       "      <td>1</td>\n",
       "    </tr>\n",
       "    <tr>\n",
       "      <th>10924</th>\n",
       "      <td>Work</td>\n",
       "      <td>Alone</td>\n",
       "      <td>Snowy</td>\n",
       "      <td>30</td>\n",
       "      <td>7AM</td>\n",
       "      <td>Bar</td>\n",
       "      <td>1d</td>\n",
       "      <td>Female</td>\n",
       "      <td>21</td>\n",
       "      <td>Unmarried partner</td>\n",
       "      <td>...</td>\n",
       "      <td>1~3</td>\n",
       "      <td>4~8</td>\n",
       "      <td>1~3</td>\n",
       "      <td>less1</td>\n",
       "      <td>1</td>\n",
       "      <td>1</td>\n",
       "      <td>1</td>\n",
       "      <td>0</td>\n",
       "      <td>1</td>\n",
       "      <td>1</td>\n",
       "    </tr>\n",
       "    <tr>\n",
       "      <th>8024</th>\n",
       "      <td>No Urgent Place</td>\n",
       "      <td>Friend(s)</td>\n",
       "      <td>Snowy</td>\n",
       "      <td>30</td>\n",
       "      <td>10PM</td>\n",
       "      <td>Carry out &amp; Take away</td>\n",
       "      <td>1d</td>\n",
       "      <td>Male</td>\n",
       "      <td>21</td>\n",
       "      <td>Single</td>\n",
       "      <td>...</td>\n",
       "      <td>1~3</td>\n",
       "      <td>1~3</td>\n",
       "      <td>less1</td>\n",
       "      <td>less1</td>\n",
       "      <td>1</td>\n",
       "      <td>1</td>\n",
       "      <td>0</td>\n",
       "      <td>0</td>\n",
       "      <td>1</td>\n",
       "      <td>0</td>\n",
       "    </tr>\n",
       "    <tr>\n",
       "      <th>7946</th>\n",
       "      <td>Work</td>\n",
       "      <td>Alone</td>\n",
       "      <td>Snowy</td>\n",
       "      <td>30</td>\n",
       "      <td>7AM</td>\n",
       "      <td>Restaurant(20-50)</td>\n",
       "      <td>1d</td>\n",
       "      <td>Female</td>\n",
       "      <td>26</td>\n",
       "      <td>Single</td>\n",
       "      <td>...</td>\n",
       "      <td>less1</td>\n",
       "      <td>1~3</td>\n",
       "      <td>gt8</td>\n",
       "      <td>gt8</td>\n",
       "      <td>1</td>\n",
       "      <td>1</td>\n",
       "      <td>1</td>\n",
       "      <td>0</td>\n",
       "      <td>1</td>\n",
       "      <td>1</td>\n",
       "    </tr>\n",
       "    <tr>\n",
       "      <th>5626</th>\n",
       "      <td>Work</td>\n",
       "      <td>Alone</td>\n",
       "      <td>Sunny</td>\n",
       "      <td>80</td>\n",
       "      <td>7AM</td>\n",
       "      <td>Restaurant(20-50)</td>\n",
       "      <td>2h</td>\n",
       "      <td>Male</td>\n",
       "      <td>26</td>\n",
       "      <td>Single</td>\n",
       "      <td>...</td>\n",
       "      <td>1~3</td>\n",
       "      <td>4~8</td>\n",
       "      <td>1~3</td>\n",
       "      <td>less1</td>\n",
       "      <td>1</td>\n",
       "      <td>1</td>\n",
       "      <td>0</td>\n",
       "      <td>0</td>\n",
       "      <td>1</td>\n",
       "      <td>1</td>\n",
       "    </tr>\n",
       "    <tr>\n",
       "      <th>1439</th>\n",
       "      <td>No Urgent Place</td>\n",
       "      <td>Friend(s)</td>\n",
       "      <td>Sunny</td>\n",
       "      <td>80</td>\n",
       "      <td>2PM</td>\n",
       "      <td>Coffee House</td>\n",
       "      <td>1d</td>\n",
       "      <td>Female</td>\n",
       "      <td>46</td>\n",
       "      <td>Single</td>\n",
       "      <td>...</td>\n",
       "      <td>never</td>\n",
       "      <td>1~3</td>\n",
       "      <td>less1</td>\n",
       "      <td>less1</td>\n",
       "      <td>1</td>\n",
       "      <td>0</td>\n",
       "      <td>0</td>\n",
       "      <td>0</td>\n",
       "      <td>1</td>\n",
       "      <td>0</td>\n",
       "    </tr>\n",
       "    <tr>\n",
       "      <th>1303</th>\n",
       "      <td>No Urgent Place</td>\n",
       "      <td>Alone</td>\n",
       "      <td>Sunny</td>\n",
       "      <td>55</td>\n",
       "      <td>2PM</td>\n",
       "      <td>Restaurant(&lt;20)</td>\n",
       "      <td>1d</td>\n",
       "      <td>Female</td>\n",
       "      <td>21</td>\n",
       "      <td>Unmarried partner</td>\n",
       "      <td>...</td>\n",
       "      <td>1~3</td>\n",
       "      <td>1~3</td>\n",
       "      <td>4~8</td>\n",
       "      <td>never</td>\n",
       "      <td>1</td>\n",
       "      <td>0</td>\n",
       "      <td>0</td>\n",
       "      <td>0</td>\n",
       "      <td>1</td>\n",
       "      <td>1</td>\n",
       "    </tr>\n",
       "  </tbody>\n",
       "</table>\n",
       "<p>10 rows × 26 columns</p>\n",
       "</div>"
      ],
      "text/plain": [
       "           destination  passanger weather  temperature  time  \\\n",
       "9072   No Urgent Place     Kid(s)   Sunny           80  10AM   \n",
       "534    No Urgent Place     Kid(s)   Sunny           55   2PM   \n",
       "4590   No Urgent Place  Friend(s)   Sunny           80  10AM   \n",
       "1121              Work      Alone   Sunny           55   7AM   \n",
       "10924             Work      Alone   Snowy           30   7AM   \n",
       "8024   No Urgent Place  Friend(s)   Snowy           30  10PM   \n",
       "7946              Work      Alone   Snowy           30   7AM   \n",
       "5626              Work      Alone   Sunny           80   7AM   \n",
       "1439   No Urgent Place  Friend(s)   Sunny           80   2PM   \n",
       "1303   No Urgent Place      Alone   Sunny           55   2PM   \n",
       "\n",
       "                      coupon expiration  gender     age      maritalStatus  \\\n",
       "9072            Coffee House         1d  Female      26    Married partner   \n",
       "534          Restaurant(<20)         1d    Male  50plus    Married partner   \n",
       "4590            Coffee House         2h    Male      36    Married partner   \n",
       "1121            Coffee House         2h  Female      41    Married partner   \n",
       "10924                    Bar         1d  Female      21  Unmarried partner   \n",
       "8024   Carry out & Take away         1d    Male      21             Single   \n",
       "7946       Restaurant(20-50)         1d  Female      26             Single   \n",
       "5626       Restaurant(20-50)         2h    Male      26             Single   \n",
       "1439            Coffee House         1d  Female      46             Single   \n",
       "1303         Restaurant(<20)         1d  Female      21  Unmarried partner   \n",
       "\n",
       "       ...  CoffeeHouse CarryAway RestaurantLessThan20 Restaurant20To50  \\\n",
       "9072   ...          1~3       4~8                  4~8            less1   \n",
       "534    ...          1~3       4~8                  4~8            less1   \n",
       "4590   ...        never       1~3                  1~3            less1   \n",
       "1121   ...        less1       4~8                  1~3            less1   \n",
       "10924  ...          1~3       4~8                  1~3            less1   \n",
       "8024   ...          1~3       1~3                less1            less1   \n",
       "7946   ...        less1       1~3                  gt8              gt8   \n",
       "5626   ...          1~3       4~8                  1~3            less1   \n",
       "1439   ...        never       1~3                less1            less1   \n",
       "1303   ...          1~3       1~3                  4~8            never   \n",
       "\n",
       "      toCoupon_GEQ5min toCoupon_GEQ15min toCoupon_GEQ25min direction_same  \\\n",
       "9072                 1                 0                 0              0   \n",
       "534                  1                 1                 0              0   \n",
       "4590                 1                 1                 0              0   \n",
       "1121                 1                 1                 0              0   \n",
       "10924                1                 1                 1              0   \n",
       "8024                 1                 1                 0              0   \n",
       "7946                 1                 1                 1              0   \n",
       "5626                 1                 1                 0              0   \n",
       "1439                 1                 0                 0              0   \n",
       "1303                 1                 0                 0              0   \n",
       "\n",
       "      direction_opp  Y  \n",
       "9072              1  1  \n",
       "534               1  1  \n",
       "4590              1  0  \n",
       "1121              1  1  \n",
       "10924             1  1  \n",
       "8024              1  0  \n",
       "7946              1  1  \n",
       "5626              1  1  \n",
       "1439              1  0  \n",
       "1303              1  1  \n",
       "\n",
       "[10 rows x 26 columns]"
      ]
     },
     "execution_count": 3,
     "metadata": {},
     "output_type": "execute_result"
    }
   ],
   "source": [
    "#Used below code to understand the dataset better at high level\n",
    "\n",
    "#Information about the dataset\n",
    "data.info()\n",
    "\n",
    "# Number of rows \n",
    "print(data.shape[0])\n",
    "\n",
    "#Number of columns\n",
    "print(data.shape[1])\n",
    "\n",
    "# 20 Random Samples from the dataset\n",
    "data.sample(n=10)\n",
    "\n"
   ]
  },
  {
   "cell_type": "markdown",
   "metadata": {},
   "source": [
    "2. Investigate the dataset for missing or problematic data."
   ]
  },
  {
   "cell_type": "code",
   "execution_count": 4,
   "metadata": {},
   "outputs": [],
   "source": [
    "#print (f\"Destination: {data['destination'].unique()}\\n\")\n",
    "#print (f\"Coupon: {data['coupon'].unique()}\\n\")\n",
    "#print (f\"Marital Status: {data['maritalStatus'].unique()}\\n\")\n",
    "#print (f\"Weather: {data['weather'].unique()}\\n\")\n",
    "#print (f\"Passenger: {data['passanger'].unique()}\\n\")\n",
    "#print (f\"occupation: {data['occupation'].unique()}\\n\")\n",
    "#print (f\"age: {data['age'].unique()}\\n\")\n",
    "#print (f\"Income: {data['income'].unique()}\\n\")\n",
    "#print (f\"RestaurantLessThan20: {data['RestaurantLessThan20'].unique()}\\n\")\n",
    "#print (f\"Bar: {data['Bar'].unique()}\\n\")\n",
    "#print (f\"CoffeeHouse: {data['CoffeeHouse'].unique()}\\n\")\n",
    "\n",
    "#print (f\"car: {data['car'].unique()}\\n\")\n",
    "#print (f\"{data['car'].value_counts()}\\n\")\n",
    "#Car data is pretty much not of much use due to the high number of nan's.\n",
    "\n",
    "#print (data['Bar'].value_counts())\n",
    "#print (f\"Bar: {data['Bar'].unique()}\\n\")\n",
    "\n",
    "\n",
    "#print (data['CoffeeHouse'].value_counts())\n",
    "#print (f\"CoffeeHouse: {data['CoffeeHouse'].unique()}\\n\")\n"
   ]
  },
  {
   "cell_type": "markdown",
   "metadata": {},
   "source": [
    "3. Decide what to do about your missing data -- drop, replace, other..."
   ]
  },
  {
   "cell_type": "code",
   "execution_count": 5,
   "metadata": {},
   "outputs": [],
   "source": [
    "#since car column has quite a lot of nan values, we will drop the column as it is not of much use for now\n",
    "del data['car']"
   ]
  },
  {
   "cell_type": "code",
   "execution_count": 6,
   "metadata": {},
   "outputs": [],
   "source": [
    "#clean up nan values\n",
    "data = data.dropna()"
   ]
  },
  {
   "cell_type": "code",
   "execution_count": 7,
   "metadata": {},
   "outputs": [
    {
     "data": {
      "text/plain": [
       "destination             12079\n",
       "passanger               12079\n",
       "weather                 12079\n",
       "temperature             12079\n",
       "time                    12079\n",
       "coupon                  12079\n",
       "expiration              12079\n",
       "gender                  12079\n",
       "age                     12079\n",
       "maritalStatus           12079\n",
       "has_children            12079\n",
       "education               12079\n",
       "occupation              12079\n",
       "income                  12079\n",
       "Bar                     12079\n",
       "CoffeeHouse             12079\n",
       "CarryAway               12079\n",
       "RestaurantLessThan20    12079\n",
       "Restaurant20To50        12079\n",
       "toCoupon_GEQ5min        12079\n",
       "toCoupon_GEQ15min       12079\n",
       "toCoupon_GEQ25min       12079\n",
       "direction_same          12079\n",
       "direction_opp           12079\n",
       "Y                       12079\n",
       "dtype: int64"
      ]
     },
     "execution_count": 7,
     "metadata": {},
     "output_type": "execute_result"
    }
   ],
   "source": [
    "data.count()"
   ]
  },
  {
   "cell_type": "markdown",
   "metadata": {},
   "source": [
    "4. What proportion of the total observations chose to accept the coupon? "
   ]
  },
  {
   "cell_type": "code",
   "execution_count": 8,
   "metadata": {},
   "outputs": [
    {
     "data": {
      "text/plain": [
       "0.5693352098683666"
      ]
     },
     "execution_count": 8,
     "metadata": {},
     "output_type": "execute_result"
    }
   ],
   "source": [
    "#Get a total count individuals who accepted coupon and divide by the total number of individuals\n",
    "\n",
    "data['Y'].value_counts()[1] / data['Y'].shape[0]"
   ]
  },
  {
   "cell_type": "markdown",
   "metadata": {},
   "source": [
    "5. Use a bar plot to visualize the `coupon` column."
   ]
  },
  {
   "cell_type": "code",
   "execution_count": 11,
   "metadata": {},
   "outputs": [
    {
     "data": {
      "image/png": "[encoded data removed]",
      "text/plain": [
       "<Figure size 1500x700 with 1 Axes>"
      ]
     },
     "metadata": {},
     "output_type": "display_data"
    }
   ],
   "source": [
    "sns.countplot(x=data['coupon'], width=0.8)\n",
    "sns.set(rc={'figure.figsize':(15,7.0)})\n",
    "plt.savefig('../images/barcoupons.png')"
   ]
  },
  {
   "cell_type": "markdown",
   "metadata": {},
   "source": [
    "6. Use a histogram to visualize the temperature column."
   ]
  },
  {
   "cell_type": "code",
   "execution_count": 13,
   "metadata": {},
   "outputs": [
    {
     "data": {
      "image/png": "[encoded data removed]",
      "text/plain": [
       "<Figure size 1500x700 with 1 Axes>"
      ]
     },
     "metadata": {},
     "output_type": "display_data"
    }
   ],
   "source": [
    "sns.histplot(data, x='temperature',binwidth=10,hue='coupon', multiple=\"stack\")\n",
    "plt.savefig('../images/temperature.png')"
   ]
  },
  {
   "cell_type": "markdown",
   "metadata": {},
   "source": [
    "**Investigating the Bar Coupons**\n",
    "\n",
    "Now, we will lead you through an exploration of just the bar related coupons.  \n",
    "\n",
    "1. Create a new `DataFrame` that contains just the bar coupons.\n"
   ]
  },
  {
   "cell_type": "code",
   "execution_count": 14,
   "metadata": {},
   "outputs": [],
   "source": [
    " df_bar = data.query(\"coupon == 'Bar' \")"
   ]
  },
  {
   "cell_type": "markdown",
   "metadata": {},
   "source": [
    "2. What proportion of bar coupons were accepted?\n"
   ]
  },
  {
   "cell_type": "code",
   "execution_count": 15,
   "metadata": {},
   "outputs": [
    {
     "data": {
      "text/plain": [
       "0.41191845269210664"
      ]
     },
     "execution_count": 15,
     "metadata": {},
     "output_type": "execute_result"
    }
   ],
   "source": [
    "#Get a count of the rows where Coupon(Y) == 1 and divide that by the total number of rows of bar coupons dataframe\n",
    "df_bar.query(\"Y == 1 \").shape[0] / df_bar.shape[0]"
   ]
  },
  {
   "cell_type": "markdown",
   "metadata": {},
   "source": [
    "3. Compare the acceptance rate between those who went to a bar 3 or fewer times a month to those who went more.\n"
   ]
  },
  {
   "cell_type": "code",
   "execution_count": 16,
   "metadata": {},
   "outputs": [
    {
     "name": "stdout",
     "output_type": "stream",
     "text": [
      "Acceptance rate of those who went to bar 3 or fewer times a month: 0.25718766335598536\n",
      "Acceptance rate of those who went to bar more than 3 times a month: 0.07684265551489806\n"
     ]
    }
   ],
   "source": [
    "num_bar_three_or_more = 0\n",
    "num_bar_more_than_three = 0\n",
    "\n",
    "#Filters for selections\n",
    "\n",
    "less_than_three_filter = ['less1', '1~3']\n",
    "more_than_three_filter = ['gt8', '4~8']\n",
    "\n",
    "# Number of individuals who went to bar 3 or fewer times a month\n",
    "num_bar_three_or_more = df_bar.query(\"Y == 1 and Bar in @less_than_three_filter\").shape[0]\n",
    "print(f\"Acceptance rate of those who went to bar 3 or fewer times a month: {num_bar_three_or_more/df_bar.shape[0]}\")\n",
    "\n",
    "\n",
    "# Number of individuals who went to bar more than 3 times a month\n",
    "num_bar_more_than_three = df_bar.query(\"Y == 1 and Bar in @more_than_three_filter\").shape[0]\n",
    "\n",
    "print(f\"Acceptance rate of those who went to bar more than 3 times a month: {num_bar_more_than_three/df_bar.shape[0]}\")\n"
   ]
  },
  {
   "cell_type": "markdown",
   "metadata": {},
   "source": [
    "4. Compare the acceptance rate between drivers who go to a bar more than once a month and are over the age of 25 to the all others.  Is there a difference?\n"
   ]
  },
  {
   "cell_type": "code",
   "execution_count": 17,
   "metadata": {},
   "outputs": [
    {
     "name": "stdout",
     "output_type": "stream",
     "text": [
      "Acceptance rate of those who went to bar more than once and are over 25 years of age : 0.14532148457919497\n"
     ]
    }
   ],
   "source": [
    "# Number of individuals who went to bar more than once and are over the age of 25\n",
    "\n",
    "#filters for selection\n",
    "more_than_once_filter = ['1~3','gt8', '4~8']\n",
    "age_above_25_filter = ['46', '26', '31', '41', '50plus', '36']\n",
    "\n",
    "num_bar_once_age25 = df_bar.query(\"Y == 1 and Bar in @more_than_once_filter and age in @age_above_25_filter\").shape[0]\n",
    "\n",
    "print(f\"Acceptance rate of those who went to bar more than once and are over 25 years of age : {num_bar_once_age25/df_bar.shape[0]}\")\n",
    "      "
   ]
  },
  {
   "cell_type": "markdown",
   "metadata": {},
   "source": [
    "5. Use the same process to compare the acceptance rate between drivers who go to bars more than once a month and had passengers that were not a kid and had occupations other than farming, fishing, or forestry. \n"
   ]
  },
  {
   "cell_type": "code",
   "execution_count": 18,
   "metadata": {},
   "outputs": [
    {
     "name": "stdout",
     "output_type": "stream",
     "text": [
      "Number of individuals who went to bar more than once and had passengers that were not a kid and had occupations other than farming, fishing or forestry : 0.0705697856769472\n"
     ]
    }
   ],
   "source": [
    "#Number of individuals who went to bar more than once and had passengers that were not a kid \n",
    "# and had occupations other than farming, fishing or forestry.\n",
    "\n",
    "#filters for selection\n",
    "more_than_once_filter = ['1~3','gt8', '4~8']\n",
    "passenger_not_kids_filter = ['Friend(s)', 'Partner']\n",
    "farm_fish_forest_filter = ['Farming Fishing & Forestry']\n",
    "\n",
    "num_individuals_criteria_match = df_bar.query(\"Y == 1 and Bar in @more_than_once_filter and passanger in @passenger_not_kids_filter and occupation not in @farm_fish_forest_filter\").shape[0]\n",
    "\n",
    "print(f\"Number of individuals who went to bar more than once and had passengers that were not a kid and had occupations other than farming, fishing or forestry : {num_individuals_criteria_match/df_bar.shape[0]}\")"
   ]
  },
  {
   "cell_type": "markdown",
   "metadata": {},
   "source": [
    "6. Compare the acceptance rates between those drivers who:\n",
    "\n",
    "- go to bars more than once a month, had passengers that were not a kid, and were not widowed *OR*\n",
    "- go to bars more than once a month and are under the age of 30 *OR*\n",
    "- go to cheap restaurants more than 4 times a month and income is less than 50K. \n",
    "\n"
   ]
  },
  {
   "cell_type": "code",
   "execution_count": 19,
   "metadata": {},
   "outputs": [
    {
     "name": "stdout",
     "output_type": "stream",
     "text": [
      "Acceptance rateof number of individuals who go to bars more than once a month, had passengers that were not a kid, and were not widowed: 0.0705697856769472\n",
      "Acceptance rate of number of individuals who go to bars more than once a month and are under the age of 30: 0.12336644014636697\n",
      "Acceptance rate of number of Individuals who go to cheap restaurants more than 4 times a month and income is less than 50K: 0.07945635128071092\n"
     ]
    }
   ],
   "source": [
    "# Individuals who go to bars more than once a month, had passengers that were not a kid, and were not widowed \n",
    "\n",
    "#filters for selection\n",
    "more_than_once_filter = ['1~3','gt8', '4~8']\n",
    "passenger_not_kids_filter = ['Friend(s)', 'Partner']\n",
    "widowed = ['Widowed']\n",
    "\n",
    "num_individuals_1 =  df_bar.query(\"Y == 1 and Bar in @more_than_once_filter and passanger in @passenger_not_kids_filter and maritalStatus not in @widowed \").shape[0]\n",
    "\n",
    "print(f\"Acceptance rateof number of individuals who go to bars more than once a month, had passengers that were not a kid, and were not widowed: {num_individuals_1/df_bar.shape[0]}\")\n",
    "\n",
    "# Individuals go to bars more than once a month and are under the age of 30\n",
    "\n",
    "#filters for selection\n",
    "more_than_once_filter = ['1~3','gt8', '4~8']\n",
    "age_under_30_filter = ['21', '26','below21']\n",
    "\n",
    "num_individuals_2 =  df_bar.query(\"Y == 1 and Bar in @more_than_once_filter and age in @age_under_30_filter \").shape[0]\n",
    "print(f\"Acceptance rate of number of individuals who go to bars more than once a month and are under the age of 30: {num_individuals_2/df_bar.shape[0]}\")\n",
    "\n",
    "#filters for selection\n",
    "income_less_than_50k_filter = ['$12500 - $24999', '$37500 - $49999',  '$25000 - $37499', 'Less than $12500']\n",
    "RestaurantLessThan20_4_times_filter = ['4~8', 'gt8']\n",
    "\n",
    "#Individuals who go to cheap restaurants more than 4 times a month and income is less than 50K\n",
    "num_individuals_3 = df_bar.query(\"Y == 1 and RestaurantLessThan20 in @RestaurantLessThan20_4_times_filter and income in @income_less_than_50k_filter \").shape[0]\n",
    "\n",
    "print(f\"Acceptance rate of number of Individuals who go to cheap restaurants more than 4 times a month and income is less than 50K: {num_individuals_3/df_bar.shape[0]}\")"
   ]
  },
  {
   "cell_type": "markdown",
   "metadata": {},
   "source": [
    "7.  Based on these observations, what do you hypothesize about drivers who accepted the bar coupons?"
   ]
  },
  {
   "cell_type": "code",
   "execution_count": 20,
   "metadata": {},
   "outputs": [],
   "source": [
    "#\n",
    "#Individuals who went to bar 3 or fewer times a month tend to have higher acceptance rate of bar coupon than any other segment observed"
   ]
  },
  {
   "cell_type": "markdown",
   "metadata": {},
   "source": [
    "### Independent Investigation\n",
    "\n",
    "Using the bar coupon example as motivation, you are to explore one of the other coupon groups and try to determine the characteristics of passengers who accept the coupons.  "
   ]
  },
  {
   "cell_type": "code",
   "execution_count": 21,
   "metadata": {},
   "outputs": [],
   "source": [
    "#Create a dataframe for CoffeeHouse\n",
    "df_coffee = data.query(\"coupon == 'Coffee House' \")\n",
    "    \n",
    "#CoffeeHouse: ['less1' '4~8' '1~3' 'gt8' 'never']"
   ]
  },
  {
   "cell_type": "code",
   "execution_count": 22,
   "metadata": {},
   "outputs": [
    {
     "name": "stdout",
     "output_type": "stream",
     "text": [
      "Acceptance rate of number of individuals who go to CoffeeHouse more than once a month and age less than 25 : 0.0980083857442348\n",
      "Acceptance rate of number of individuals who go to CoffeeHouse more than once a month and age more than 25 : 0.22458071278825995\n"
     ]
    }
   ],
   "source": [
    "#filters for selection\n",
    "more_than_once_filter = ['1~3','gt8', '4~8']\n",
    "age_above_25_filter = ['46', '26', '31', '41', '50plus', '36']\n",
    "age_lessthan_25_filter = ['21', 'below21']\n",
    "\n",
    "num_individuals_1 =  df_coffee.query(\"Y == 1 and CoffeeHouse in @more_than_once_filter and age in @age_lessthan_25_filter\").shape[0]\n",
    "print(f\"Acceptance rate of number of individuals who go to CoffeeHouse more than once a month and age less than 25 : {num_individuals_1/df_coffee.shape[0]}\")\n",
    "\n",
    "num_individuals_2 =  df_coffee.query(\"Y == 1 and CoffeeHouse in @more_than_once_filter and age in @age_above_25_filter\").shape[0]\n",
    "print(f\"Acceptance rate of number of individuals who go to CoffeeHouse more than once a month and age more than 25 : {num_individuals_2/df_coffee.shape[0]}\")\n"
   ]
  },
  {
   "cell_type": "code",
   "execution_count": 23,
   "metadata": {},
   "outputs": [],
   "source": [
    "#filters for selection\n",
    "more_than_once_filter = ['1~3','gt8', '4~8']\n",
    "income_less_than_50k_filter = ['$12500 - $24999', '$37500 - $49999',  '$25000 - $37499', 'Less than $12500']\n",
    "income_more_than_50k_filter = ['$62500 - $74999', '$75000 - $87499', '$50000 - $62499', '$100000 or More' ,  '$87500 - $99999']\n"
   ]
  },
  {
   "cell_type": "code",
   "execution_count": null,
   "metadata": {},
   "outputs": [],
   "source": []
  },
  {
   "cell_type": "code",
   "execution_count": null,
   "metadata": {},
   "outputs": [],
   "source": []
  }
 ],
 "metadata": {
  "kernelspec": {
   "display_name": "Python 3 (ipykernel)",
   "language": "python",
   "name": "python3"
  },
  "language_info": {
   "codemirror_mode": {
    "name": "ipython",
    "version": 3
   },
   "file_extension": ".py",
   "mimetype": "text/x-python",
   "name": "python",
   "nbconvert_exporter": "python",
   "pygments_lexer": "ipython3",
   "version": "3.11.4"
  },
  "widgets": {
   "application/vnd.jupyter.widget-state+json": {
    "state": {},
    "version_major": 2,
    "version_minor": 0
   }
  }
 },
 "nbformat": 4,
 "nbformat_minor": 4
}
